{
 "cells": [
  {
   "cell_type": "markdown",
   "metadata": {},
   "source": [
    "## Kaggle - Intro to Natural Language Processing (NLP)\n",
    "https://www.kaggle.com/matleonard/intro-to-nlp\n"
   ]
  },
  {
   "cell_type": "code",
   "execution_count": 16,
   "metadata": {},
   "outputs": [],
   "source": [
    "# pip install -U spacy\n",
    "# python -m spacy download en\n",
    "\n",
    "import spacy\n",
    "nlp = spacy.load('en')\n",
    "# doc = nlp(\"Tea is healthy and calming, don't you think?\")\n",
    "doc = nlp(\"Just do it, don't be thinking. Ran Run had taken take\")"
   ]
  },
  {
   "cell_type": "code",
   "execution_count": 17,
   "metadata": {},
   "outputs": [
    {
     "name": "stdout",
     "output_type": "stream",
     "text": [
      "Just\n",
      "do\n",
      "it\n",
      ",\n",
      "do\n",
      "n't\n",
      "be\n",
      "thinking\n",
      ".\n",
      "Ran\n",
      "Run\n",
      "had\n",
      "taken\n",
      "take\n"
     ]
    }
   ],
   "source": [
    "for token in doc:\n",
    "    print(token)"
   ]
  },
  {
   "cell_type": "code",
   "execution_count": 18,
   "metadata": {},
   "outputs": [
    {
     "name": "stdout",
     "output_type": "stream",
     "text": [
      "Token \t\tLemma \t\tStopword\n",
      "----------------------------------------\n",
      "Just\t\tjust\t\tTrue\n",
      "do\t\tdo\t\tTrue\n",
      "it\t\t-PRON-\t\tTrue\n",
      ",\t\t,\t\tFalse\n",
      "do\t\tdo\t\tTrue\n",
      "n't\t\tnot\t\tTrue\n",
      "be\t\tbe\t\tTrue\n",
      "thinking\t\tthink\t\tFalse\n",
      ".\t\t.\t\tFalse\n",
      "Ran\t\tRan\t\tFalse\n",
      "Run\t\tRun\t\tFalse\n",
      "had\t\thave\t\tTrue\n",
      "taken\t\ttake\t\tFalse\n",
      "take\t\ttake\t\tTrue\n"
     ]
    }
   ],
   "source": [
    "## token.lemma_ 將單字還原成原始型態\n",
    "## token.is_stop 判斷單子是否是有意思的字，去除主詞(I you It they) 連接詞(and but however) be動詞\n",
    "\n",
    "print(f\"Token \\t\\tLemma \\t\\tStopword\".format('Token', 'Lemma', 'Stopword'))\n",
    "print(\"-\"*40)\n",
    "for token in doc:\n",
    "    print(f\"{str(token)}\\t\\t{token.lemma_}\\t\\t{token.is_stop}\")\n"
   ]
  },
  {
   "cell_type": "markdown",
   "metadata": {},
   "source": [
    "## Pattern Matching"
   ]
  },
  {
   "cell_type": "code",
   "execution_count": 19,
   "metadata": {},
   "outputs": [],
   "source": [
    "from spacy.matcher import PhraseMatcher\n",
    "matcher = PhraseMatcher(nlp.vocab, attr='LOWER')"
   ]
  },
  {
   "cell_type": "code",
   "execution_count": null,
   "metadata": {},
   "outputs": [],
   "source": []
  }
 ],
 "metadata": {
  "kernelspec": {
   "display_name": "Python 3",
   "language": "python",
   "name": "python3"
  },
  "language_info": {
   "codemirror_mode": {
    "name": "ipython",
    "version": 3
   },
   "file_extension": ".py",
   "mimetype": "text/x-python",
   "name": "python",
   "nbconvert_exporter": "python",
   "pygments_lexer": "ipython3",
   "version": "3.7.3"
  }
 },
 "nbformat": 4,
 "nbformat_minor": 2
}
